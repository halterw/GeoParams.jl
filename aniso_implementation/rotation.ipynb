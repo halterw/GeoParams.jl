{
 "cells": [
  {
   "cell_type": "code",
   "execution_count": 1,
   "metadata": {},
   "outputs": [
    {
     "data": {
      "text/latex": [
       "$\\displaystyle \\left[\\begin{matrix}Q_{11} & Q_{12}\\\\Q_{21} & Q_{22}\\end{matrix}\\right]$"
      ],
      "text/plain": [
       "⎡Q₁₁  Q₁₂⎤\n",
       "⎢        ⎥\n",
       "⎣Q₂₁  Q₂₂⎦"
      ]
     },
     "metadata": {},
     "output_type": "display_data"
    },
    {
     "data": {
      "text/latex": [
       "$\\displaystyle \\left[\\begin{matrix}Exx & Exy\\\\Eyx & Eyy\\end{matrix}\\right]$"
      ],
      "text/plain": [
       "⎡Exx  Exy⎤\n",
       "⎢        ⎥\n",
       "⎣Eyx  Eyy⎦"
      ]
     },
     "metadata": {},
     "output_type": "display_data"
    }
   ],
   "source": [
    "from sympy import *\n",
    "from IPython.display import display\n",
    "init_printing()  # LaTeX-like pretty printing for IPython\n",
    "\n",
    "# Transformation matrix Q\n",
    "Q11, Q22, Q12, Q21 = symbols('Q11, Q22, Q12, Q21')\n",
    "Q         = Matrix(2,2,[Q11,Q12,Q21,Q22])\n",
    "display(Q)\n",
    "\n",
    "# Strain rate matrix E in cartesian coordinate system\n",
    "Exx, Eyy, Exy, Eyx = symbols('Exx, Eyy, Exy, Eyx')\n",
    "E         = Matrix(2,2,[Exx,Exy,Eyx,Eyy])\n",
    "display(E)"
   ]
  },
  {
   "cell_type": "code",
   "execution_count": 2,
   "metadata": {},
   "outputs": [
    {
     "data": {
      "text/latex": [
       "$\\displaystyle \\left[\\begin{matrix}Q_{11} \\left(Exx Q_{11} + Eyx Q_{12}\\right) + Q_{12} \\left(Exy Q_{11} + Eyy Q_{12}\\right) & Q_{21} \\left(Exx Q_{11} + Eyx Q_{12}\\right) + Q_{22} \\left(Exy Q_{11} + Eyy Q_{12}\\right)\\\\Q_{11} \\left(Exx Q_{21} + Eyx Q_{22}\\right) + Q_{12} \\left(Exy Q_{21} + Eyy Q_{22}\\right) & Q_{21} \\left(Exx Q_{21} + Eyx Q_{22}\\right) + Q_{22} \\left(Exy Q_{21} + Eyy Q_{22}\\right)\\end{matrix}\\right]$"
      ],
      "text/plain": [
       "⎡Q₁₁⋅(Exx⋅Q₁₁ + Eyx⋅Q₁₂) + Q₁₂⋅(Exy⋅Q₁₁ + Eyy⋅Q₁₂)  Q₂₁⋅(Exx⋅Q₁₁ + Eyx⋅Q₁₂) + \n",
       "⎢                                                                             \n",
       "⎣Q₁₁⋅(Exx⋅Q₂₁ + Eyx⋅Q₂₂) + Q₁₂⋅(Exy⋅Q₂₁ + Eyy⋅Q₂₂)  Q₂₁⋅(Exx⋅Q₂₁ + Eyx⋅Q₂₂) + \n",
       "\n",
       "Q₂₂⋅(Exy⋅Q₁₁ + Eyy⋅Q₁₂)⎤\n",
       "                       ⎥\n",
       "Q₂₂⋅(Exy⋅Q₂₁ + Eyy⋅Q₂₂)⎦"
      ]
     },
     "metadata": {},
     "output_type": "display_data"
    },
    {
     "name": "stdout",
     "output_type": "stream",
     "text": [
      "Exx_rot =  Q11 .* (Exx .* Q11 + Eyx .* Q12) + Q12 .* (Exy .* Q11 + Eyy .* Q12)\n",
      "Eyy_rot =  Q21 .* (Exx .* Q21 + Eyx .* Q22) + Q22 .* (Exy .* Q21 + Eyy .* Q22)\n",
      "Exy_rot =  Q21 .* (Exx .* Q11 + Eyx .* Q12) + Q22 .* (Exy .* Q11 + Eyy .* Q12)\n",
      "Eyx_rot =  Q11 .* (Exx .* Q21 + Eyx .* Q22) + Q12 .* (Exy .* Q21 + Eyy .* Q22)\n"
     ]
    }
   ],
   "source": [
    "# Strain rate matrix E_rot in the rotated coordinate system of the anisotropy plane\n",
    "E_rot = Q * E * Q.transpose()\n",
    "display(E_rot)\n",
    "\n",
    "# Extract components for copy-pasting to julia\n",
    "print('Exx_rot = ', julia_code(E_rot[0,0]))\n",
    "print('Eyy_rot = ', julia_code(E_rot[1,1]))\n",
    "print('Exy_rot = ', julia_code(E_rot[0,1]))\n",
    "print('Eyx_rot = ', julia_code(E_rot[1,0]))"
   ]
  },
  {
   "cell_type": "code",
   "execution_count": 3,
   "metadata": {},
   "outputs": [
    {
     "data": {
      "text/latex": [
       "$\\displaystyle \\left[\\begin{matrix}Q_{11} \\left(Exx_{rot} Q_{11} + Eyx_{rot} Q_{21}\\right) + Q_{21} \\left(Exy_{rot} Q_{11} + Eyy_{rot} Q_{21}\\right) & Q_{12} \\left(Exx_{rot} Q_{11} + Eyx_{rot} Q_{21}\\right) + Q_{22} \\left(Exy_{rot} Q_{11} + Eyy_{rot} Q_{21}\\right)\\\\Q_{11} \\left(Exx_{rot} Q_{12} + Eyx_{rot} Q_{22}\\right) + Q_{21} \\left(Exy_{rot} Q_{12} + Eyy_{rot} Q_{22}\\right) & Q_{12} \\left(Exx_{rot} Q_{12} + Eyx_{rot} Q_{22}\\right) + Q_{22} \\left(Exy_{rot} Q_{12} + Eyy_{rot} Q_{22}\\right)\\end{matrix}\\right]$"
      ],
      "text/plain": [
       "⎡Q₁₁⋅(Exxᵣₒₜ⋅Q₁₁ + Eyxᵣₒₜ⋅Q₂₁) + Q₂₁⋅(Exyᵣₒₜ⋅Q₁₁ + Eyyᵣₒₜ⋅Q₂₁)  Q₁₂⋅(Exxᵣₒₜ⋅Q₁\n",
       "⎢                                                                             \n",
       "⎣Q₁₁⋅(Exxᵣₒₜ⋅Q₁₂ + Eyxᵣₒₜ⋅Q₂₂) + Q₂₁⋅(Exyᵣₒₜ⋅Q₁₂ + Eyyᵣₒₜ⋅Q₂₂)  Q₁₂⋅(Exxᵣₒₜ⋅Q₁\n",
       "\n",
       "₁ + Eyxᵣₒₜ⋅Q₂₁) + Q₂₂⋅(Exyᵣₒₜ⋅Q₁₁ + Eyyᵣₒₜ⋅Q₂₁)⎤\n",
       "                                               ⎥\n",
       "₂ + Eyxᵣₒₜ⋅Q₂₂) + Q₂₂⋅(Exyᵣₒₜ⋅Q₁₂ + Eyyᵣₒₜ⋅Q₂₂)⎦"
      ]
     },
     "metadata": {},
     "output_type": "display_data"
    },
    {
     "name": "stdout",
     "output_type": "stream",
     "text": [
      "Exx =  Q11 .* (Exx_rot .* Q11 + Eyx_rot .* Q21) + Q21 .* (Exy_rot .* Q11 + Eyy_rot .* Q21)\n",
      "Eyy =  Q12 .* (Exx_rot .* Q12 + Eyx_rot .* Q22) + Q22 .* (Exy_rot .* Q12 + Eyy_rot .* Q22)\n",
      "Exy =  Q12 .* (Exx_rot .* Q11 + Eyx_rot .* Q21) + Q22 .* (Exy_rot .* Q11 + Eyy_rot .* Q21)\n",
      "Eyx =  Q11 .* (Exx_rot .* Q12 + Eyx_rot .* Q22) + Q21 .* (Exy_rot .* Q12 + Eyy_rot .* Q22)\n"
     ]
    }
   ],
   "source": [
    "# Transformation back\n",
    "Exx_rot, Eyy_rot, Exy_rot, Eyx_rot = symbols('Exx_rot, Eyy_rot, Exy_rot, Eyx_rot')\n",
    "E_rot   = Matrix(2,2,[Exx_rot,Exy_rot,Eyx_rot,Eyy_rot])\n",
    "E       = Q.transpose() * E_rot * Q\n",
    "display(E)\n",
    "\n",
    "# Extract components for copy-pasting to julia\n",
    "print('Exx = ', julia_code(E[0,0]))\n",
    "print('Eyy = ', julia_code(E[1,1]))\n",
    "print('Exy = ', julia_code(E[0,1]))\n",
    "print('Eyx = ', julia_code(E[1,0]))"
   ]
  }
 ],
 "metadata": {
  "kernelspec": {
   "display_name": "Python 3",
   "language": "python",
   "name": "python3"
  },
  "language_info": {
   "codemirror_mode": {
    "name": "ipython",
    "version": 3
   },
   "file_extension": ".py",
   "mimetype": "text/x-python",
   "name": "python",
   "nbconvert_exporter": "python",
   "pygments_lexer": "ipython3",
   "version": "3.9.13"
  },
  "orig_nbformat": 4
 },
 "nbformat": 4,
 "nbformat_minor": 2
}
