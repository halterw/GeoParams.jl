{
 "cells": [
  {
   "cell_type": "code",
   "execution_count": 1,
   "metadata": {},
   "outputs": [
    {
     "data": {
      "text/latex": [
       "$\\displaystyle \\left[\\begin{matrix}1 & 0 & 0\\\\0 & 1 & 0\\\\0 & 0 & \\frac{1.0}{anifacve}\\end{matrix}\\right]$"
      ],
      "text/plain": [
       "⎡1  0     0    ⎤\n",
       "⎢              ⎥\n",
       "⎢0  1     0    ⎥\n",
       "⎢              ⎥\n",
       "⎢        1.0   ⎥\n",
       "⎢0  0  ────────⎥\n",
       "⎣      anifacve⎦"
      ]
     },
     "metadata": {},
     "output_type": "display_data"
    },
    {
     "data": {
      "text/latex": [
       "$\\displaystyle \\left[\\begin{matrix}Exx_{ve}\\\\Eyy_{ve}\\\\Exy_{ve}\\end{matrix}\\right]$"
      ],
      "text/plain": [
       "⎡Exxᵥₑ⎤\n",
       "⎢     ⎥\n",
       "⎢Eyyᵥₑ⎥\n",
       "⎢     ⎥\n",
       "⎣Exyᵥₑ⎦"
      ]
     },
     "metadata": {},
     "output_type": "display_data"
    }
   ],
   "source": [
    "from sympy import *\n",
    "from IPython.display import display\n",
    "init_printing()  # LaTeX-like pretty printing for IPython\n",
    "\n",
    "# D\n",
    "anifacve = symbols('anifacve')\n",
    "D         = Matrix(3,3,[1,0,0,0,1,0,0,0,1.0/anifacve])\n",
    "display(D)\n",
    "\n",
    "# E_ve\n",
    "Exx_ve,Eyy_ve,Exy_ve = symbols('Exx_ve,Eyy_ve,Exy_ve')\n",
    "E_ve         = Matrix(3,1,[Exx_ve,Eyy_ve,Exy_ve])\n",
    "display(E_ve)"
   ]
  },
  {
   "cell_type": "code",
   "execution_count": 2,
   "metadata": {},
   "outputs": [
    {
     "data": {
      "text/latex": [
       "$\\displaystyle \\left[\\begin{matrix}2.0 Exx_{ve} ηve\\\\2.0 Eyy_{ve} ηve\\\\\\frac{2.0 Exy_{ve} ηve}{anifacve}\\end{matrix}\\right]$"
      ],
      "text/plain": [
       "⎡2.0⋅Exxᵥₑ⋅ηve⎤\n",
       "⎢             ⎥\n",
       "⎢2.0⋅Eyyᵥₑ⋅ηve⎥\n",
       "⎢             ⎥\n",
       "⎢2.0⋅Exyᵥₑ⋅ηve⎥\n",
       "⎢─────────────⎥\n",
       "⎣   anifacve  ⎦"
      ]
     },
     "metadata": {},
     "output_type": "display_data"
    },
    {
     "name": "stdout",
     "output_type": "stream",
     "text": [
      "Txx_rot =  2.0 * Exx_ve .* ηve\n",
      "Tyy_rot =  2.0 * Eyy_ve .* ηve\n",
      "Txy_rot =  2.0 * Exy_ve .* ηve ./ anifacve\n"
     ]
    }
   ],
   "source": [
    "#T_rot\n",
    "ηve = symbols('ηve')\n",
    "T_rot = 2.0*ηve*D*E_ve\n",
    "display(T_rot)\n",
    "\n",
    "# Extract components for copy-pasting to julia\n",
    "print('Txx_rot = ', julia_code(T_rot[0]))\n",
    "print('Tyy_rot = ', julia_code(T_rot[1]))\n",
    "print('Txy_rot = ', julia_code(T_rot[2]))\n"
   ]
  }
 ],
 "metadata": {
  "kernelspec": {
   "display_name": "Python 3",
   "language": "python",
   "name": "python3"
  },
  "language_info": {
   "codemirror_mode": {
    "name": "ipython",
    "version": 3
   },
   "file_extension": ".py",
   "mimetype": "text/x-python",
   "name": "python",
   "nbconvert_exporter": "python",
   "pygments_lexer": "ipython3",
   "version": "3.9.13"
  },
  "orig_nbformat": 4
 },
 "nbformat": 4,
 "nbformat_minor": 2
}
